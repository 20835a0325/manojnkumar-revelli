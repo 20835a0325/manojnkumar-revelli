{
 "cells": [
  {
   "cell_type": "code",
   "execution_count": 1,
   "id": "f67c87b0",
   "metadata": {},
   "outputs": [
    {
     "name": "stdout",
     "output_type": "stream",
     "text": [
      "hello all,welcome to the python pogramming world\n"
     ]
    }
   ],
   "source": [
    "print(\"hello all,welcome to the python pogramming world\")"
   ]
  },
  {
   "cell_type": "code",
   "execution_count": null,
   "id": "5677f896",
   "metadata": {},
   "outputs": [],
   "source": []
  },
  {
   "cell_type": "code",
   "execution_count": null,
   "id": "b4cf67a0",
   "metadata": {},
   "outputs": [],
   "source": []
  }
 ],
 "metadata": {
  "kernelspec": {
   "display_name": "Python 3 (ipykernel)",
   "language": "python",
   "name": "python3"
  },
  "language_info": {
   "codemirror_mode": {
    "name": "ipython",
    "version": 3
   },
   "file_extension": ".py",
   "mimetype": "text/x-python",
   "name": "python",
   "nbconvert_exporter": "python",
   "pygments_lexer": "ipython3",
   "version": "3.9.7"
  }
 },
 "nbformat": 4,
 "nbformat_minor": 5
}
